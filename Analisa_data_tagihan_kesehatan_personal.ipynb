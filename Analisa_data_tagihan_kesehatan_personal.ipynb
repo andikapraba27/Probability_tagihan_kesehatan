{
 "cells": [
  {
   "cell_type": "markdown",
   "id": "72e997af",
   "metadata": {},
   "source": [
    "# Analisa Data Tagihan Kesehatan Personal"
   ]
  },
  {
   "cell_type": "code",
   "execution_count": 1,
   "id": "f5e6740c",
   "metadata": {},
   "outputs": [],
   "source": [
    "import pandas as pd\n",
    "import sqlite3\n",
    "import matplotlib.pyplot as plt\n",
    "import seaborn as sns\n",
    "from datetime import datetime\n",
    "from statistics import variance\n",
    "import numpy as np"
   ]
  },
  {
   "cell_type": "markdown",
   "id": "76e038d4",
   "metadata": {},
   "source": [
    "Pada file ini akan dilakukan analisa pada data tagihan kesehatan personal dari suatu perusahaan asuransi. Data ini menunjukkan besarnya tagihan yang harus dibayarkan oleh nasabah kepada asuransi. Berikut merupakan list dari kolom pada data tersebut:\n",
    "- __age__ <br>\n",
    "    Umur dari penerima manfaat asuransi\n",
    "- __sex__ <br>\n",
    "    gender, terdiri dari female & male\n",
    "- __bmi__ <br>\n",
    "    body mass index, besaran ideal berada pada rentang 18.5 - 24.9\n",
    "- __children__ <br>\n",
    "    Jumlah anak yang ditanggung oleh asuransi\n",
    "- __smoker__ <br>\n",
    "    Apakah nasabah merokok atau tidak?\n",
    "- __region__ <br>\n",
    "    tempat tinggal nasabah di US, ada 4: northeast, southeast, southwest, northwest\n",
    "- __charges__ <br>\n",
    "    Biaya yang ditagih kepada nasabah untuk dibayarkan ke asuransi  "
   ]
  },
  {
   "cell_type": "code",
   "execution_count": 2,
   "id": "8bd9a4f8",
   "metadata": {
    "scrolled": true
   },
   "outputs": [
    {
     "data": {
      "text/html": [
       "<div>\n",
       "<style scoped>\n",
       "    .dataframe tbody tr th:only-of-type {\n",
       "        vertical-align: middle;\n",
       "    }\n",
       "\n",
       "    .dataframe tbody tr th {\n",
       "        vertical-align: top;\n",
       "    }\n",
       "\n",
       "    .dataframe thead th {\n",
       "        text-align: right;\n",
       "    }\n",
       "</style>\n",
       "<table border=\"1\" class=\"dataframe\">\n",
       "  <thead>\n",
       "    <tr style=\"text-align: right;\">\n",
       "      <th></th>\n",
       "      <th>age</th>\n",
       "      <th>sex</th>\n",
       "      <th>bmi</th>\n",
       "      <th>children</th>\n",
       "      <th>smoker</th>\n",
       "      <th>region</th>\n",
       "      <th>charges</th>\n",
       "    </tr>\n",
       "  </thead>\n",
       "  <tbody>\n",
       "    <tr>\n",
       "      <th>0</th>\n",
       "      <td>19</td>\n",
       "      <td>female</td>\n",
       "      <td>27.900</td>\n",
       "      <td>0</td>\n",
       "      <td>yes</td>\n",
       "      <td>southwest</td>\n",
       "      <td>16884.92400</td>\n",
       "    </tr>\n",
       "    <tr>\n",
       "      <th>1</th>\n",
       "      <td>18</td>\n",
       "      <td>male</td>\n",
       "      <td>33.770</td>\n",
       "      <td>1</td>\n",
       "      <td>no</td>\n",
       "      <td>southeast</td>\n",
       "      <td>1725.55230</td>\n",
       "    </tr>\n",
       "    <tr>\n",
       "      <th>2</th>\n",
       "      <td>28</td>\n",
       "      <td>male</td>\n",
       "      <td>33.000</td>\n",
       "      <td>3</td>\n",
       "      <td>no</td>\n",
       "      <td>southeast</td>\n",
       "      <td>4449.46200</td>\n",
       "    </tr>\n",
       "    <tr>\n",
       "      <th>3</th>\n",
       "      <td>33</td>\n",
       "      <td>male</td>\n",
       "      <td>22.705</td>\n",
       "      <td>0</td>\n",
       "      <td>no</td>\n",
       "      <td>northwest</td>\n",
       "      <td>21984.47061</td>\n",
       "    </tr>\n",
       "    <tr>\n",
       "      <th>4</th>\n",
       "      <td>32</td>\n",
       "      <td>male</td>\n",
       "      <td>28.880</td>\n",
       "      <td>0</td>\n",
       "      <td>no</td>\n",
       "      <td>northwest</td>\n",
       "      <td>3866.85520</td>\n",
       "    </tr>\n",
       "  </tbody>\n",
       "</table>\n",
       "</div>"
      ],
      "text/plain": [
       "   age     sex     bmi  children smoker     region      charges\n",
       "0   19  female  27.900         0    yes  southwest  16884.92400\n",
       "1   18    male  33.770         1     no  southeast   1725.55230\n",
       "2   28    male  33.000         3     no  southeast   4449.46200\n",
       "3   33    male  22.705         0     no  northwest  21984.47061\n",
       "4   32    male  28.880         0     no  northwest   3866.85520"
      ]
     },
     "execution_count": 2,
     "metadata": {},
     "output_type": "execute_result"
    }
   ],
   "source": [
    "#read data\n",
    "asuransi = pd.read_csv(\"insurance.csv\")\n",
    "asuransi.head()"
   ]
  },
  {
   "cell_type": "code",
   "execution_count": 3,
   "id": "15113e38",
   "metadata": {
    "scrolled": true
   },
   "outputs": [
    {
     "name": "stdout",
     "output_type": "stream",
     "text": [
      "<class 'pandas.core.frame.DataFrame'>\n",
      "RangeIndex: 1338 entries, 0 to 1337\n",
      "Data columns (total 7 columns):\n",
      " #   Column    Non-Null Count  Dtype  \n",
      "---  ------    --------------  -----  \n",
      " 0   age       1338 non-null   int64  \n",
      " 1   sex       1338 non-null   object \n",
      " 2   bmi       1338 non-null   float64\n",
      " 3   children  1338 non-null   int64  \n",
      " 4   smoker    1338 non-null   object \n",
      " 5   region    1338 non-null   object \n",
      " 6   charges   1338 non-null   float64\n",
      "dtypes: float64(2), int64(2), object(3)\n",
      "memory usage: 73.3+ KB\n"
     ]
    }
   ],
   "source": [
    "asuransi.info()"
   ]
  },
  {
   "cell_type": "markdown",
   "id": "d90c134a",
   "metadata": {},
   "source": [
    "Dapat dilihat pada data info(), bahwa tipe kolom sudah sesuai, dan tidak terdapat data hilang, sehingga data dapat digunakan langsung."
   ]
  },
  {
   "cell_type": "markdown",
   "id": "ca81b587",
   "metadata": {},
   "source": [
    "## Research Question"
   ]
  },
  {
   "cell_type": "markdown",
   "id": "414100bd",
   "metadata": {},
   "source": [
    "Pada research question, akan dilakukan 3 analisa, yaitu analisa deskriptif statistik, analisa variabel diskrit, analisa variabel kontinu, analisa korelasi variabel, dan pengujian hipotesis."
   ]
  },
  {
   "cell_type": "markdown",
   "id": "699213c4",
   "metadata": {},
   "source": [
    "### Analisa Deskriptif Statistik"
   ]
  },
  {
   "cell_type": "markdown",
   "id": "79a825f7",
   "metadata": {},
   "source": [
    "Analisa deskriptif statistik yang akan dilakukan antara lain:\n",
    "\n",
    "a. Ringkasan statistik dari data yang digunakan? <br>\n",
    "b. Berapa rata-rata nilai BMI dari yang merokok? <br>\n",
    "c. Apakah standar deviasi dari tagihan kesehatan perokok dan non perokok sama? <br>\n",
    "d. Apakah rata-rata umur perempuan dan laki-laki yang merokok sama? <br>\n",
    "e. Mana yang lebih tinggi, rata-rata tagihan kesehatan perokok atau non merokok? <br>\n"
   ]
  },
  {
   "cell_type": "markdown",
   "id": "dabd9cd6",
   "metadata": {},
   "source": [
    "#### a. Ringkasan statistik dari data yang digunakan?"
   ]
  },
  {
   "cell_type": "code",
   "execution_count": 4,
   "id": "dbe098ac",
   "metadata": {
    "scrolled": true
   },
   "outputs": [
    {
     "data": {
      "text/html": [
       "<div>\n",
       "<style scoped>\n",
       "    .dataframe tbody tr th:only-of-type {\n",
       "        vertical-align: middle;\n",
       "    }\n",
       "\n",
       "    .dataframe tbody tr th {\n",
       "        vertical-align: top;\n",
       "    }\n",
       "\n",
       "    .dataframe thead th {\n",
       "        text-align: right;\n",
       "    }\n",
       "</style>\n",
       "<table border=\"1\" class=\"dataframe\">\n",
       "  <thead>\n",
       "    <tr style=\"text-align: right;\">\n",
       "      <th></th>\n",
       "      <th>count</th>\n",
       "      <th>unique</th>\n",
       "      <th>top</th>\n",
       "      <th>freq</th>\n",
       "      <th>mean</th>\n",
       "      <th>std</th>\n",
       "      <th>min</th>\n",
       "      <th>25%</th>\n",
       "      <th>50%</th>\n",
       "      <th>75%</th>\n",
       "      <th>max</th>\n",
       "    </tr>\n",
       "  </thead>\n",
       "  <tbody>\n",
       "    <tr>\n",
       "      <th>age</th>\n",
       "      <td>1338.0</td>\n",
       "      <td>NaN</td>\n",
       "      <td>NaN</td>\n",
       "      <td>NaN</td>\n",
       "      <td>39.207025</td>\n",
       "      <td>14.04996</td>\n",
       "      <td>18.0</td>\n",
       "      <td>27.0</td>\n",
       "      <td>39.0</td>\n",
       "      <td>51.0</td>\n",
       "      <td>64.0</td>\n",
       "    </tr>\n",
       "    <tr>\n",
       "      <th>sex</th>\n",
       "      <td>1338</td>\n",
       "      <td>2</td>\n",
       "      <td>male</td>\n",
       "      <td>676</td>\n",
       "      <td>NaN</td>\n",
       "      <td>NaN</td>\n",
       "      <td>NaN</td>\n",
       "      <td>NaN</td>\n",
       "      <td>NaN</td>\n",
       "      <td>NaN</td>\n",
       "      <td>NaN</td>\n",
       "    </tr>\n",
       "    <tr>\n",
       "      <th>bmi</th>\n",
       "      <td>1338.0</td>\n",
       "      <td>NaN</td>\n",
       "      <td>NaN</td>\n",
       "      <td>NaN</td>\n",
       "      <td>30.663397</td>\n",
       "      <td>6.098187</td>\n",
       "      <td>15.96</td>\n",
       "      <td>26.29625</td>\n",
       "      <td>30.4</td>\n",
       "      <td>34.69375</td>\n",
       "      <td>53.13</td>\n",
       "    </tr>\n",
       "    <tr>\n",
       "      <th>children</th>\n",
       "      <td>1338.0</td>\n",
       "      <td>NaN</td>\n",
       "      <td>NaN</td>\n",
       "      <td>NaN</td>\n",
       "      <td>1.094918</td>\n",
       "      <td>1.205493</td>\n",
       "      <td>0.0</td>\n",
       "      <td>0.0</td>\n",
       "      <td>1.0</td>\n",
       "      <td>2.0</td>\n",
       "      <td>5.0</td>\n",
       "    </tr>\n",
       "    <tr>\n",
       "      <th>smoker</th>\n",
       "      <td>1338</td>\n",
       "      <td>2</td>\n",
       "      <td>no</td>\n",
       "      <td>1064</td>\n",
       "      <td>NaN</td>\n",
       "      <td>NaN</td>\n",
       "      <td>NaN</td>\n",
       "      <td>NaN</td>\n",
       "      <td>NaN</td>\n",
       "      <td>NaN</td>\n",
       "      <td>NaN</td>\n",
       "    </tr>\n",
       "    <tr>\n",
       "      <th>region</th>\n",
       "      <td>1338</td>\n",
       "      <td>4</td>\n",
       "      <td>southeast</td>\n",
       "      <td>364</td>\n",
       "      <td>NaN</td>\n",
       "      <td>NaN</td>\n",
       "      <td>NaN</td>\n",
       "      <td>NaN</td>\n",
       "      <td>NaN</td>\n",
       "      <td>NaN</td>\n",
       "      <td>NaN</td>\n",
       "    </tr>\n",
       "    <tr>\n",
       "      <th>charges</th>\n",
       "      <td>1338.0</td>\n",
       "      <td>NaN</td>\n",
       "      <td>NaN</td>\n",
       "      <td>NaN</td>\n",
       "      <td>13270.422265</td>\n",
       "      <td>12110.011237</td>\n",
       "      <td>1121.8739</td>\n",
       "      <td>4740.28715</td>\n",
       "      <td>9382.033</td>\n",
       "      <td>16639.912515</td>\n",
       "      <td>63770.42801</td>\n",
       "    </tr>\n",
       "  </tbody>\n",
       "</table>\n",
       "</div>"
      ],
      "text/plain": [
       "           count unique        top  freq          mean           std  \\\n",
       "age       1338.0    NaN        NaN   NaN     39.207025      14.04996   \n",
       "sex         1338      2       male   676           NaN           NaN   \n",
       "bmi       1338.0    NaN        NaN   NaN     30.663397      6.098187   \n",
       "children  1338.0    NaN        NaN   NaN      1.094918      1.205493   \n",
       "smoker      1338      2         no  1064           NaN           NaN   \n",
       "region      1338      4  southeast   364           NaN           NaN   \n",
       "charges   1338.0    NaN        NaN   NaN  13270.422265  12110.011237   \n",
       "\n",
       "                min         25%       50%           75%          max  \n",
       "age            18.0        27.0      39.0          51.0         64.0  \n",
       "sex             NaN         NaN       NaN           NaN          NaN  \n",
       "bmi           15.96    26.29625      30.4      34.69375        53.13  \n",
       "children        0.0         0.0       1.0           2.0          5.0  \n",
       "smoker          NaN         NaN       NaN           NaN          NaN  \n",
       "region          NaN         NaN       NaN           NaN          NaN  \n",
       "charges   1121.8739  4740.28715  9382.033  16639.912515  63770.42801  "
      ]
     },
     "execution_count": 4,
     "metadata": {},
     "output_type": "execute_result"
    }
   ],
   "source": [
    "asuransi.describe(include=\"all\").T"
   ]
  },
  {
   "cell_type": "markdown",
   "id": "fefdfea5",
   "metadata": {},
   "source": [
    "Dari ringkasan statistik menggunakan fungsi describe(), didapatkan nilai mean sebagai berikut:\n",
    "- age: 39.2 tahun\n",
    "- bmi: 30.66\n",
    "- charges: USD 13,270\n",
    "\n",
    "Dengan standar deviasi (std) sebagai berikut:\n",
    "- age: 14 tahun\n",
    "- bmi: 6.09\n",
    "- charges: USD 12,110\n",
    "\n",
    "Dari data mean dan std, dapat dilihat bahwa data charges sangat memiliki variasi yang besar, karena nilai std nya hampir mendekat nilai mean-nya. Sementara itu, untuk umur memiliki rentang data dari 18-64 tahun, yang merupakan umur produktif. Untuk data bmi, memiliki rata-rata yang cukup tinggi hingga 30.66 dengan std 6.09, hal ini dapat terjadi jika banyak nasabah asuransi yang memiliki berat di atas dari berat ideal, yang tentu saja akan berpengaruh terhadap nilai yang akan ditagihkan."
   ]
  },
  {
   "cell_type": "markdown",
   "id": "538aad33",
   "metadata": {},
   "source": [
    "#### b. Berapa rata-rata nilai BMI dari yang merokok? "
   ]
  },
  {
   "cell_type": "code",
   "execution_count": 5,
   "id": "86a768ff",
   "metadata": {},
   "outputs": [
    {
     "data": {
      "text/html": [
       "<div>\n",
       "<style scoped>\n",
       "    .dataframe tbody tr th:only-of-type {\n",
       "        vertical-align: middle;\n",
       "    }\n",
       "\n",
       "    .dataframe tbody tr th {\n",
       "        vertical-align: top;\n",
       "    }\n",
       "\n",
       "    .dataframe thead th {\n",
       "        text-align: right;\n",
       "    }\n",
       "</style>\n",
       "<table border=\"1\" class=\"dataframe\">\n",
       "  <thead>\n",
       "    <tr style=\"text-align: right;\">\n",
       "      <th></th>\n",
       "      <th>count</th>\n",
       "      <th>mean</th>\n",
       "      <th>std</th>\n",
       "      <th>min</th>\n",
       "      <th>25%</th>\n",
       "      <th>50%</th>\n",
       "      <th>75%</th>\n",
       "      <th>max</th>\n",
       "    </tr>\n",
       "  </thead>\n",
       "  <tbody>\n",
       "    <tr>\n",
       "      <th>age</th>\n",
       "      <td>274.0</td>\n",
       "      <td>38.514599</td>\n",
       "      <td>13.923186</td>\n",
       "      <td>18.0000</td>\n",
       "      <td>27.000000</td>\n",
       "      <td>38.00000</td>\n",
       "      <td>49.000000</td>\n",
       "      <td>64.00000</td>\n",
       "    </tr>\n",
       "    <tr>\n",
       "      <th>bmi</th>\n",
       "      <td>274.0</td>\n",
       "      <td>30.708449</td>\n",
       "      <td>6.318644</td>\n",
       "      <td>17.1950</td>\n",
       "      <td>26.083750</td>\n",
       "      <td>30.44750</td>\n",
       "      <td>35.200000</td>\n",
       "      <td>52.58000</td>\n",
       "    </tr>\n",
       "    <tr>\n",
       "      <th>children</th>\n",
       "      <td>274.0</td>\n",
       "      <td>1.113139</td>\n",
       "      <td>1.157066</td>\n",
       "      <td>0.0000</td>\n",
       "      <td>0.000000</td>\n",
       "      <td>1.00000</td>\n",
       "      <td>2.000000</td>\n",
       "      <td>5.00000</td>\n",
       "    </tr>\n",
       "    <tr>\n",
       "      <th>charges</th>\n",
       "      <td>274.0</td>\n",
       "      <td>32050.231832</td>\n",
       "      <td>11541.547176</td>\n",
       "      <td>12829.4551</td>\n",
       "      <td>20826.244213</td>\n",
       "      <td>34456.34845</td>\n",
       "      <td>41019.207275</td>\n",
       "      <td>63770.42801</td>\n",
       "    </tr>\n",
       "  </tbody>\n",
       "</table>\n",
       "</div>"
      ],
      "text/plain": [
       "          count          mean           std         min           25%  \\\n",
       "age       274.0     38.514599     13.923186     18.0000     27.000000   \n",
       "bmi       274.0     30.708449      6.318644     17.1950     26.083750   \n",
       "children  274.0      1.113139      1.157066      0.0000      0.000000   \n",
       "charges   274.0  32050.231832  11541.547176  12829.4551  20826.244213   \n",
       "\n",
       "                  50%           75%          max  \n",
       "age          38.00000     49.000000     64.00000  \n",
       "bmi          30.44750     35.200000     52.58000  \n",
       "children      1.00000      2.000000      5.00000  \n",
       "charges   34456.34845  41019.207275  63770.42801  "
      ]
     },
     "execution_count": 5,
     "metadata": {},
     "output_type": "execute_result"
    }
   ],
   "source": [
    "#filter data perokok\n",
    "asuransi_perokok = asuransi[asuransi[\"smoker\"] == \"yes\"]\n",
    "asuransi_perokok.describe().T"
   ]
  },
  {
   "cell_type": "markdown",
   "id": "219d7c42",
   "metadata": {},
   "source": [
    "Dari hasil di atas, dapat dilihat bahwa rata-rata umur perokok yang menjadi nasabah adalah 38.5 Tahun, dan rata-rata bmi-nya sebesar __30.71__."
   ]
  },
  {
   "cell_type": "markdown",
   "id": "8ad618de",
   "metadata": {},
   "source": [
    "#### c. Apakah standar deviasi dari tagihan kesehatan perokok dan non perokok sama? "
   ]
  },
  {
   "cell_type": "code",
   "execution_count": 6,
   "id": "1a8ac257",
   "metadata": {},
   "outputs": [
    {
     "data": {
      "text/html": [
       "<div>\n",
       "<style scoped>\n",
       "    .dataframe tbody tr th:only-of-type {\n",
       "        vertical-align: middle;\n",
       "    }\n",
       "\n",
       "    .dataframe tbody tr th {\n",
       "        vertical-align: top;\n",
       "    }\n",
       "\n",
       "    .dataframe thead th {\n",
       "        text-align: right;\n",
       "    }\n",
       "</style>\n",
       "<table border=\"1\" class=\"dataframe\">\n",
       "  <thead>\n",
       "    <tr style=\"text-align: right;\">\n",
       "      <th></th>\n",
       "      <th>count</th>\n",
       "      <th>mean</th>\n",
       "      <th>std</th>\n",
       "      <th>min</th>\n",
       "      <th>25%</th>\n",
       "      <th>50%</th>\n",
       "      <th>75%</th>\n",
       "      <th>max</th>\n",
       "    </tr>\n",
       "  </thead>\n",
       "  <tbody>\n",
       "    <tr>\n",
       "      <th>age</th>\n",
       "      <td>1064.0</td>\n",
       "      <td>39.385338</td>\n",
       "      <td>14.083410</td>\n",
       "      <td>18.0000</td>\n",
       "      <td>26.7500</td>\n",
       "      <td>40.0000</td>\n",
       "      <td>52.00000</td>\n",
       "      <td>64.00000</td>\n",
       "    </tr>\n",
       "    <tr>\n",
       "      <th>bmi</th>\n",
       "      <td>1064.0</td>\n",
       "      <td>30.651795</td>\n",
       "      <td>6.043111</td>\n",
       "      <td>15.9600</td>\n",
       "      <td>26.3150</td>\n",
       "      <td>30.3525</td>\n",
       "      <td>34.43000</td>\n",
       "      <td>53.13000</td>\n",
       "    </tr>\n",
       "    <tr>\n",
       "      <th>children</th>\n",
       "      <td>1064.0</td>\n",
       "      <td>1.090226</td>\n",
       "      <td>1.218136</td>\n",
       "      <td>0.0000</td>\n",
       "      <td>0.0000</td>\n",
       "      <td>1.0000</td>\n",
       "      <td>2.00000</td>\n",
       "      <td>5.00000</td>\n",
       "    </tr>\n",
       "    <tr>\n",
       "      <th>charges</th>\n",
       "      <td>1064.0</td>\n",
       "      <td>8434.268298</td>\n",
       "      <td>5993.781819</td>\n",
       "      <td>1121.8739</td>\n",
       "      <td>3986.4387</td>\n",
       "      <td>7345.4053</td>\n",
       "      <td>11362.88705</td>\n",
       "      <td>36910.60803</td>\n",
       "    </tr>\n",
       "  </tbody>\n",
       "</table>\n",
       "</div>"
      ],
      "text/plain": [
       "           count         mean          std        min        25%        50%  \\\n",
       "age       1064.0    39.385338    14.083410    18.0000    26.7500    40.0000   \n",
       "bmi       1064.0    30.651795     6.043111    15.9600    26.3150    30.3525   \n",
       "children  1064.0     1.090226     1.218136     0.0000     0.0000     1.0000   \n",
       "charges   1064.0  8434.268298  5993.781819  1121.8739  3986.4387  7345.4053   \n",
       "\n",
       "                  75%          max  \n",
       "age          52.00000     64.00000  \n",
       "bmi          34.43000     53.13000  \n",
       "children      2.00000      5.00000  \n",
       "charges   11362.88705  36910.60803  "
      ]
     },
     "execution_count": 6,
     "metadata": {},
     "output_type": "execute_result"
    }
   ],
   "source": [
    "#filter data non perokok\n",
    "asuransi_non_perokok = asuransi[asuransi[\"smoker\"] == \"no\"]\n",
    "asuransi_non_perokok.describe().T"
   ]
  },
  {
   "cell_type": "markdown",
   "id": "afdc6b26",
   "metadata": {},
   "source": [
    "Dari kedua informasi yang telah ada di atas, didapatkan bahwa standar deviasi charges/tagihan untuk masing-masing data antara lain:\n",
    "- std Tagihan Perokok : __USD 11,541.55__\n",
    "- std Tagihan Non Perokok: __USD 5,993.78__\n",
    "\n",
    "Pada data tersebut, dapat dilihat bahwa tagihan untuk nasabah non perokok lebih murah dibandingkan dengan nasabah perokok, dengan selisih sebesar: __USD 5,547.77__."
   ]
  },
  {
   "cell_type": "markdown",
   "id": "a86cb02b",
   "metadata": {},
   "source": [
    "#### d. Apakah rata-rata umur perempuan dan laki-laki yang merokok sama? "
   ]
  },
  {
   "cell_type": "code",
   "execution_count": 7,
   "id": "b0dc30fa",
   "metadata": {},
   "outputs": [
    {
     "data": {
      "text/html": [
       "<div>\n",
       "<style scoped>\n",
       "    .dataframe tbody tr th:only-of-type {\n",
       "        vertical-align: middle;\n",
       "    }\n",
       "\n",
       "    .dataframe tbody tr th {\n",
       "        vertical-align: top;\n",
       "    }\n",
       "\n",
       "    .dataframe thead th {\n",
       "        text-align: right;\n",
       "    }\n",
       "</style>\n",
       "<table border=\"1\" class=\"dataframe\">\n",
       "  <thead>\n",
       "    <tr style=\"text-align: right;\">\n",
       "      <th></th>\n",
       "      <th>age</th>\n",
       "    </tr>\n",
       "    <tr>\n",
       "      <th>sex</th>\n",
       "      <th></th>\n",
       "    </tr>\n",
       "  </thead>\n",
       "  <tbody>\n",
       "    <tr>\n",
       "      <th>female</th>\n",
       "      <td>38.608696</td>\n",
       "    </tr>\n",
       "    <tr>\n",
       "      <th>male</th>\n",
       "      <td>38.446541</td>\n",
       "    </tr>\n",
       "  </tbody>\n",
       "</table>\n",
       "</div>"
      ],
      "text/plain": [
       "              age\n",
       "sex              \n",
       "female  38.608696\n",
       "male    38.446541"
      ]
     },
     "execution_count": 7,
     "metadata": {},
     "output_type": "execute_result"
    }
   ],
   "source": [
    "#Dari data perokok akan dilakukan pemisahan perempuan & laki-laki\n",
    "#menggunakan pivot table\n",
    "asuransi_perokok.pivot_table(values=\"age\", index=\"sex\", aggfunc=\"mean\")"
   ]
  },
  {
   "cell_type": "markdown",
   "id": "6c9c1c66",
   "metadata": {},
   "source": [
    "Menggunakan pivot table didapatkan rata-rata umur perokok untuk laki-laki & perempuan tidak terlampau jauh dapat dikatakan sama, berada di sekitar umur __38 Tahun__."
   ]
  },
  {
   "cell_type": "markdown",
   "id": "69718cd4",
   "metadata": {},
   "source": [
    "#### e. Mana yang lebih tinggi, rata-rata tagihan kesehatan perokok atau non merokok?"
   ]
  },
  {
   "cell_type": "code",
   "execution_count": 133,
   "id": "0da1dcea",
   "metadata": {
    "scrolled": true
   },
   "outputs": [
    {
     "data": {
      "text/html": [
       "<div>\n",
       "<style scoped>\n",
       "    .dataframe tbody tr th:only-of-type {\n",
       "        vertical-align: middle;\n",
       "    }\n",
       "\n",
       "    .dataframe tbody tr th {\n",
       "        vertical-align: top;\n",
       "    }\n",
       "\n",
       "    .dataframe thead th {\n",
       "        text-align: right;\n",
       "    }\n",
       "</style>\n",
       "<table border=\"1\" class=\"dataframe\">\n",
       "  <thead>\n",
       "    <tr style=\"text-align: right;\">\n",
       "      <th></th>\n",
       "      <th>charges</th>\n",
       "    </tr>\n",
       "    <tr>\n",
       "      <th>smoker</th>\n",
       "      <th></th>\n",
       "    </tr>\n",
       "  </thead>\n",
       "  <tbody>\n",
       "    <tr>\n",
       "      <th>no</th>\n",
       "      <td>8434.268298</td>\n",
       "    </tr>\n",
       "    <tr>\n",
       "      <th>yes</th>\n",
       "      <td>32050.231832</td>\n",
       "    </tr>\n",
       "  </tbody>\n",
       "</table>\n",
       "</div>"
      ],
      "text/plain": [
       "             charges\n",
       "smoker              \n",
       "no       8434.268298\n",
       "yes     32050.231832"
      ]
     },
     "execution_count": 133,
     "metadata": {},
     "output_type": "execute_result"
    }
   ],
   "source": [
    "asuransi.pivot_table(values=\"charges\", index=\"smoker\", aggfunc=\"mean\")"
   ]
  },
  {
   "cell_type": "markdown",
   "id": "055878c2",
   "metadata": {},
   "source": [
    "Dari nilai di atas, didapatkan bahwa rata-rata nilai tagihan perokok lebih besar daripada non perokok, dengan tagihan perokok sebesar USD 32,050 dan tagihan non perokok USD 8,434."
   ]
  },
  {
   "cell_type": "markdown",
   "id": "c3d90896",
   "metadata": {},
   "source": [
    "### Analisa Variabel Diskrit"
   ]
  },
  {
   "cell_type": "markdown",
   "id": "5c00033b",
   "metadata": {},
   "source": [
    "Analisa Variabel diskrit yang akan dilakukan antara lain:\n",
    "\n",
    "a. Gender mana yang memiliki tagihan paling tinggi? <br>\n",
    "b. Distribusi peluang tagihan di tiap-tiap region? <br>\n",
    "c. Apakah setiap region memiliki proporsi data banyak orang yang sama? <br>\n",
    "d. Mana yang lebih tinggi proporsi perokok atau non perokok? <br>\n",
    "e. Berapa peluang seseorang tersebut adalah perempuan diketahui dia adalah perokok? <br>"
   ]
  },
  {
   "cell_type": "markdown",
   "id": "08430713",
   "metadata": {},
   "source": [
    "#### a. Gender mana yang memiliki tagihan paling tinggi? "
   ]
  },
  {
   "cell_type": "code",
   "execution_count": 134,
   "id": "0bfb6870",
   "metadata": {},
   "outputs": [
    {
     "data": {
      "text/html": [
       "<div>\n",
       "<style scoped>\n",
       "    .dataframe tbody tr th:only-of-type {\n",
       "        vertical-align: middle;\n",
       "    }\n",
       "\n",
       "    .dataframe tbody tr th {\n",
       "        vertical-align: top;\n",
       "    }\n",
       "\n",
       "    .dataframe thead tr th {\n",
       "        text-align: left;\n",
       "    }\n",
       "\n",
       "    .dataframe thead tr:last-of-type th {\n",
       "        text-align: right;\n",
       "    }\n",
       "</style>\n",
       "<table border=\"1\" class=\"dataframe\">\n",
       "  <thead>\n",
       "    <tr>\n",
       "      <th></th>\n",
       "      <th>max</th>\n",
       "      <th>mean</th>\n",
       "      <th>median</th>\n",
       "      <th>std</th>\n",
       "    </tr>\n",
       "    <tr>\n",
       "      <th></th>\n",
       "      <th>charges</th>\n",
       "      <th>charges</th>\n",
       "      <th>charges</th>\n",
       "      <th>charges</th>\n",
       "    </tr>\n",
       "    <tr>\n",
       "      <th>sex</th>\n",
       "      <th></th>\n",
       "      <th></th>\n",
       "      <th></th>\n",
       "      <th></th>\n",
       "    </tr>\n",
       "  </thead>\n",
       "  <tbody>\n",
       "    <tr>\n",
       "      <th>female</th>\n",
       "      <td>63770.42801</td>\n",
       "      <td>12569.578844</td>\n",
       "      <td>9412.96250</td>\n",
       "      <td>11128.703801</td>\n",
       "    </tr>\n",
       "    <tr>\n",
       "      <th>male</th>\n",
       "      <td>62592.87309</td>\n",
       "      <td>13956.751178</td>\n",
       "      <td>9369.61575</td>\n",
       "      <td>12971.025915</td>\n",
       "    </tr>\n",
       "  </tbody>\n",
       "</table>\n",
       "</div>"
      ],
      "text/plain": [
       "                max          mean      median           std\n",
       "            charges       charges     charges       charges\n",
       "sex                                                        \n",
       "female  63770.42801  12569.578844  9412.96250  11128.703801\n",
       "male    62592.87309  13956.751178  9369.61575  12971.025915"
      ]
     },
     "execution_count": 134,
     "metadata": {},
     "output_type": "execute_result"
    }
   ],
   "source": [
    "#Dari data perokok akan dilakukan pemisahan perempuan & laki-laki\n",
    "#menggunakan pivot table\n",
    "asuransi.pivot_table(values=\"charges\", index=\"sex\", aggfunc=[\"max\", \"mean\", \"median\", \"std\"])"
   ]
  },
  {
   "cell_type": "code",
   "execution_count": 9,
   "id": "584bd567",
   "metadata": {},
   "outputs": [
    {
     "data": {
      "text/plain": [
       "<AxesSubplot:xlabel='charges', ylabel='Count'>"
      ]
     },
     "execution_count": 9,
     "metadata": {},
     "output_type": "execute_result"
    },
    {
     "data": {
      "image/png": "[encoded data removed]",
      "text/plain": [
       "<Figure size 640x480 with 1 Axes>"
      ]
     },
     "metadata": {},
     "output_type": "display_data"
    }
   ],
   "source": [
    "sns.histplot(asuransi, x=\"charges\", kde=True, hue=\"sex\")"
   ]
  },
  {
   "cell_type": "markdown",
   "id": "31d027bc",
   "metadata": {},
   "source": [
    "Dari 2 analisa di atas, didapatkan bahwa tagihan paling tinggi dimiliki oleh __female__. Keduanya memiliki bentuk distribusi yang hampir serupa. "
   ]
  },
  {
   "cell_type": "markdown",
   "id": "f342406d",
   "metadata": {},
   "source": [
    "#### b. Distribusi peluang tagihan di tiap-tiap region? "
   ]
  },
  {
   "cell_type": "code",
   "execution_count": 10,
   "id": "9c38063b",
   "metadata": {},
   "outputs": [
    {
     "data": {
      "image/png": "[encoded data removed]",
      "text/plain": [
       "<Figure size 1500x1000 with 4 Axes>"
      ]
     },
     "metadata": {},
     "output_type": "display_data"
    }
   ],
   "source": [
    "#ambil data-data region\n",
    "region = sorted(list(asuransi[\"region\"].unique()))\n",
    "color = [\"skyblue\", \"olive\", \"red\", \"green\"]\n",
    "\n",
    "fig, axes = plt.subplots(2, 2, figsize=(15,10))\n",
    "for i in range(2):\n",
    "    for j in range(2):\n",
    "        sns.histplot(asuransi[asuransi[\"region\"] == region[i*2+j]], x=\"charges\", kde=True, color= color[i*2+j], ax=axes[i, j]).set(title=region[i*2+j])"
   ]
  },
  {
   "cell_type": "code",
   "execution_count": 11,
   "id": "eeced5e2",
   "metadata": {},
   "outputs": [
    {
     "data": {
      "text/html": [
       "<div>\n",
       "<style scoped>\n",
       "    .dataframe tbody tr th:only-of-type {\n",
       "        vertical-align: middle;\n",
       "    }\n",
       "\n",
       "    .dataframe tbody tr th {\n",
       "        vertical-align: top;\n",
       "    }\n",
       "\n",
       "    .dataframe thead tr th {\n",
       "        text-align: left;\n",
       "    }\n",
       "\n",
       "    .dataframe thead tr:last-of-type th {\n",
       "        text-align: right;\n",
       "    }\n",
       "</style>\n",
       "<table border=\"1\" class=\"dataframe\">\n",
       "  <thead>\n",
       "    <tr>\n",
       "      <th></th>\n",
       "      <th>mean</th>\n",
       "      <th>median</th>\n",
       "    </tr>\n",
       "    <tr>\n",
       "      <th></th>\n",
       "      <th>charges</th>\n",
       "      <th>charges</th>\n",
       "    </tr>\n",
       "    <tr>\n",
       "      <th>region</th>\n",
       "      <th></th>\n",
       "      <th></th>\n",
       "    </tr>\n",
       "  </thead>\n",
       "  <tbody>\n",
       "    <tr>\n",
       "      <th>northeast</th>\n",
       "      <td>13406.384516</td>\n",
       "      <td>10057.652025</td>\n",
       "    </tr>\n",
       "    <tr>\n",
       "      <th>northwest</th>\n",
       "      <td>12417.575374</td>\n",
       "      <td>8965.795750</td>\n",
       "    </tr>\n",
       "    <tr>\n",
       "      <th>southeast</th>\n",
       "      <td>14735.411438</td>\n",
       "      <td>9294.131950</td>\n",
       "    </tr>\n",
       "    <tr>\n",
       "      <th>southwest</th>\n",
       "      <td>12346.937377</td>\n",
       "      <td>8798.593000</td>\n",
       "    </tr>\n",
       "  </tbody>\n",
       "</table>\n",
       "</div>"
      ],
      "text/plain": [
       "                   mean        median\n",
       "                charges       charges\n",
       "region                               \n",
       "northeast  13406.384516  10057.652025\n",
       "northwest  12417.575374   8965.795750\n",
       "southeast  14735.411438   9294.131950\n",
       "southwest  12346.937377   8798.593000"
      ]
     },
     "execution_count": 11,
     "metadata": {},
     "output_type": "execute_result"
    }
   ],
   "source": [
    "asuransi.pivot_table(values=\"charges\", index=\"region\", aggfunc=[\"mean\", \"median\"])"
   ]
  },
  {
   "cell_type": "markdown",
   "id": "c1414b26",
   "metadata": {},
   "source": [
    "Dari data tersebut, terlihat bahwa ke-4 data region memiliki pola data yang serupa, memiliki 2 puncak, di sekitar daerah <10,000 dan puncak kedua disekitar 40,000. Data northeast memiliki nilai median yang lebih besar dibandingkan dengan ke-3 region lainnya. Median terkecil berada pada region southwest. "
   ]
  },
  {
   "cell_type": "markdown",
   "id": "fce77a9c",
   "metadata": {},
   "source": [
    "#### c. Apakah setiap region memiliki proporsi data banyak orang yang sama? "
   ]
  },
  {
   "cell_type": "code",
   "execution_count": 12,
   "id": "3e8367b1",
   "metadata": {},
   "outputs": [
    {
     "data": {
      "text/html": [
       "<div>\n",
       "<style scoped>\n",
       "    .dataframe tbody tr th:only-of-type {\n",
       "        vertical-align: middle;\n",
       "    }\n",
       "\n",
       "    .dataframe tbody tr th {\n",
       "        vertical-align: top;\n",
       "    }\n",
       "\n",
       "    .dataframe thead th {\n",
       "        text-align: right;\n",
       "    }\n",
       "</style>\n",
       "<table border=\"1\" class=\"dataframe\">\n",
       "  <thead>\n",
       "    <tr style=\"text-align: right;\">\n",
       "      <th></th>\n",
       "      <th>charges</th>\n",
       "    </tr>\n",
       "    <tr>\n",
       "      <th>region</th>\n",
       "      <th></th>\n",
       "    </tr>\n",
       "  </thead>\n",
       "  <tbody>\n",
       "    <tr>\n",
       "      <th>northeast</th>\n",
       "      <td>24.215247</td>\n",
       "    </tr>\n",
       "    <tr>\n",
       "      <th>northwest</th>\n",
       "      <td>24.289985</td>\n",
       "    </tr>\n",
       "    <tr>\n",
       "      <th>southeast</th>\n",
       "      <td>27.204783</td>\n",
       "    </tr>\n",
       "    <tr>\n",
       "      <th>southwest</th>\n",
       "      <td>24.289985</td>\n",
       "    </tr>\n",
       "  </tbody>\n",
       "</table>\n",
       "</div>"
      ],
      "text/plain": [
       "             charges\n",
       "region              \n",
       "northeast  24.215247\n",
       "northwest  24.289985\n",
       "southeast  27.204783\n",
       "southwest  24.289985"
      ]
     },
     "execution_count": 12,
     "metadata": {},
     "output_type": "execute_result"
    }
   ],
   "source": [
    "#menghitung proporsi data tiap region dalam %\n",
    "asuransi.pivot_table(values=\"charges\", index=\"region\", aggfunc=\"count\")/len(asuransi)*100"
   ]
  },
  {
   "cell_type": "markdown",
   "id": "e2140c14",
   "metadata": {},
   "source": [
    "Dari hasil di atas didapatkan persentase data memiliki sebaran yang hampir serupa untuk 3 region (__24%__): northeast, northwest, dan southwest, dan 1 region (__27%__) memiliki data lebih besar sebanyak kurang lebih 3% dibandingkan dengan 3 region lainnya. "
   ]
  },
  {
   "cell_type": "markdown",
   "id": "8ae7e5d4",
   "metadata": {},
   "source": [
    "#### d. Mana yang lebih tinggi proporsi perokok atau non perokok? "
   ]
  },
  {
   "cell_type": "code",
   "execution_count": 13,
   "id": "a4f8386c",
   "metadata": {},
   "outputs": [
    {
     "data": {
      "text/html": [
       "<div>\n",
       "<style scoped>\n",
       "    .dataframe tbody tr th:only-of-type {\n",
       "        vertical-align: middle;\n",
       "    }\n",
       "\n",
       "    .dataframe tbody tr th {\n",
       "        vertical-align: top;\n",
       "    }\n",
       "\n",
       "    .dataframe thead th {\n",
       "        text-align: right;\n",
       "    }\n",
       "</style>\n",
       "<table border=\"1\" class=\"dataframe\">\n",
       "  <thead>\n",
       "    <tr style=\"text-align: right;\">\n",
       "      <th></th>\n",
       "      <th>charges</th>\n",
       "    </tr>\n",
       "    <tr>\n",
       "      <th>smoker</th>\n",
       "      <th></th>\n",
       "    </tr>\n",
       "  </thead>\n",
       "  <tbody>\n",
       "    <tr>\n",
       "      <th>no</th>\n",
       "      <td>79.521674</td>\n",
       "    </tr>\n",
       "    <tr>\n",
       "      <th>yes</th>\n",
       "      <td>20.478326</td>\n",
       "    </tr>\n",
       "  </tbody>\n",
       "</table>\n",
       "</div>"
      ],
      "text/plain": [
       "          charges\n",
       "smoker           \n",
       "no      79.521674\n",
       "yes     20.478326"
      ]
     },
     "execution_count": 13,
     "metadata": {},
     "output_type": "execute_result"
    }
   ],
   "source": [
    "#menghitung proporsi data tiap jenis perokok atau non perokok dalam %\n",
    "asuransi.pivot_table(values=\"charges\", index=\"smoker\", aggfunc=\"count\")/len(asuransi)*100"
   ]
  },
  {
   "cell_type": "markdown",
   "id": "c331bfdf",
   "metadata": {},
   "source": [
    "Data nasabah asuransi lebih didominasi oleh non perokok sebesar __79.52%__ dibandingkan dengan perokok (__20.48%__). Hal ini menunjukkan bahwa dataset yang digunakan terdapat imbalance data. Namun, hal ini sebenarnya menggambarkan kasus di dunia nyata, karena jumlah non perokok memang lebih besar dibandingkan dengan perokok. (https://edition.cnn.com/2023/04/27/health/cigarette-smoking-decline/index.html)"
   ]
  },
  {
   "cell_type": "markdown",
   "id": "d38614e2",
   "metadata": {},
   "source": [
    "#### e. Berapa peluang seseorang tersebut adalah perempuan diketahui dia adalah perokok? "
   ]
  },
  {
   "cell_type": "code",
   "execution_count": 14,
   "id": "809da4fd",
   "metadata": {},
   "outputs": [
    {
     "data": {
      "text/html": [
       "<div>\n",
       "<style scoped>\n",
       "    .dataframe tbody tr th:only-of-type {\n",
       "        vertical-align: middle;\n",
       "    }\n",
       "\n",
       "    .dataframe tbody tr th {\n",
       "        vertical-align: top;\n",
       "    }\n",
       "\n",
       "    .dataframe thead th {\n",
       "        text-align: right;\n",
       "    }\n",
       "</style>\n",
       "<table border=\"1\" class=\"dataframe\">\n",
       "  <thead>\n",
       "    <tr style=\"text-align: right;\">\n",
       "      <th>smoker</th>\n",
       "      <th>no</th>\n",
       "      <th>yes</th>\n",
       "    </tr>\n",
       "    <tr>\n",
       "      <th>sex</th>\n",
       "      <th></th>\n",
       "      <th></th>\n",
       "    </tr>\n",
       "  </thead>\n",
       "  <tbody>\n",
       "    <tr>\n",
       "      <th>female</th>\n",
       "      <td>547</td>\n",
       "      <td>115</td>\n",
       "    </tr>\n",
       "    <tr>\n",
       "      <th>male</th>\n",
       "      <td>517</td>\n",
       "      <td>159</td>\n",
       "    </tr>\n",
       "  </tbody>\n",
       "</table>\n",
       "</div>"
      ],
      "text/plain": [
       "smoker   no  yes\n",
       "sex             \n",
       "female  547  115\n",
       "male    517  159"
      ]
     },
     "execution_count": 14,
     "metadata": {},
     "output_type": "execute_result"
    }
   ],
   "source": [
    "asuransi.pivot_table(values=\"charges\", index=\"sex\", columns=\"smoker\" ,aggfunc=\"count\")"
   ]
  },
  {
   "cell_type": "markdown",
   "id": "86527e71",
   "metadata": {},
   "source": [
    "Yang ditanyakan adalah: P(perempuan | perokok)"
   ]
  },
  {
   "cell_type": "markdown",
   "id": "a13e5ead",
   "metadata": {},
   "source": [
    "$$ P(perempuan | perokok) = \\frac{n(perempuan \\cap perokok)}{n(perokok)} $$"
   ]
  },
  {
   "cell_type": "code",
   "execution_count": 15,
   "id": "76384c92",
   "metadata": {},
   "outputs": [
    {
     "data": {
      "text/plain": [
       "0.4197080291970803"
      ]
     },
     "execution_count": 15,
     "metadata": {},
     "output_type": "execute_result"
    }
   ],
   "source": [
    "p_perempuan_perokok = 115/(115+159)\n",
    "p_perempuan_perokok"
   ]
  },
  {
   "cell_type": "markdown",
   "id": "1025700f",
   "metadata": {},
   "source": [
    "Maka peluang seseorang tersebut perempuan dan diketahui dia adalah perokok adalah sebesar __0.42__."
   ]
  },
  {
   "cell_type": "markdown",
   "id": "229b539c",
   "metadata": {},
   "source": [
    "### Analisa Variabel Kontinu"
   ]
  },
  {
   "cell_type": "markdown",
   "id": "832e86d0",
   "metadata": {},
   "source": [
    "1. Mana yang lebih mungkin terjadi <br>\n",
    "    a. Seseorang dengan BMI di atas 25 mendapatkan tagihan kesehatan di atas 16.7k (16,700) atau, <br>\n",
    "    b. Seseorang dengan BMI di bawah 25 mendapatkan tagihan kesehatan di atas 16.7k."
   ]
  },
  {
   "cell_type": "code",
   "execution_count": 16,
   "id": "262d0145",
   "metadata": {},
   "outputs": [
    {
     "name": "stdout",
     "output_type": "stream",
     "text": [
      "Jumlah data kejadian A: 283\n",
      "Peluang kejadian A: 0.2115\n"
     ]
    }
   ],
   "source": [
    "#mencari peluang kejadian A P(bmi > 25 & chg > 16.7k)\n",
    "bmi_atas_25_tag_16k = asuransi[(asuransi.bmi > 25) & (asuransi.charges > 16700)]\n",
    "print(\"Jumlah data kejadian A:\", len(bmi_atas_25_tag_16k))\n",
    "print(\"Peluang kejadian A:\", round(len(bmi_atas_25_tag_16k)/len(asuransi),4))"
   ]
  },
  {
   "cell_type": "code",
   "execution_count": 17,
   "id": "0ab170de",
   "metadata": {
    "scrolled": true
   },
   "outputs": [
    {
     "name": "stdout",
     "output_type": "stream",
     "text": [
      "Jumlah data kejadian B: 51\n",
      "Peluang kejadian B: 0.0381\n"
     ]
    }
   ],
   "source": [
    "#mencari peluang kejadian B P(bmi < 25 & chg > 16.7k)\n",
    "bmi_bawah_25_tag_16k = asuransi[(asuransi.bmi < 25) & (asuransi.charges > 16700)]\n",
    "print(\"Jumlah data kejadian B:\", len(bmi_bawah_25_tag_16k))\n",
    "print(\"Peluang kejadian B:\", round(len(bmi_bawah_25_tag_16k)/len(asuransi),4))"
   ]
  },
  {
   "cell_type": "markdown",
   "id": "6a4990dc",
   "metadata": {},
   "source": [
    "Dari perhitungan di atas didapatkan bahwa kejadian A (BMI > 25, charges> 16.7k) lebih mungkin terjadi dengan peluang sebesar 0.21 dibandingkan dengan kejadian B (BMI < 25, charges > 16.7k) dengan peluang 0.038. Hal ini menunjukkan bahwa seseorang dengan berat badan ideal dan kurus memiliki peluang nilai tagihan yang lebih kecil dibandingkan dengan orang yang overweight."
   ]
  },
  {
   "cell_type": "markdown",
   "id": "6a23a8b8",
   "metadata": {},
   "source": [
    "2. Mana yang lebih mungkin terjadi <br>\n",
    "    a. Seseorang perokok dengan BMI diatas 25 mendapatkan tagihan kesehatan diatas 16.7k atau, <br>\n",
    "    b. Seseorang non perokok dengan BMI diatas 25 mendapatkan tagihan kesehatan diatas 16.7k."
   ]
  },
  {
   "cell_type": "code",
   "execution_count": 18,
   "id": "d8c75b70",
   "metadata": {},
   "outputs": [
    {
     "name": "stdout",
     "output_type": "stream",
     "text": [
      "Jumlah data kejadian A: 215\n",
      "Peluang kejadian A: 0.7847\n"
     ]
    }
   ],
   "source": [
    "#mencari peluang kejadian A P(bmi > 25 & chg > 16.7k | perokok)\n",
    "bmi_perokok_atas_25_tag_16k = asuransi_perokok[(asuransi_perokok.bmi > 25) & (asuransi_perokok.charges > 16700)]\n",
    "print(\"Jumlah data kejadian A:\", len(bmi_perokok_atas_25_tag_16k))\n",
    "print(\"Peluang kejadian A:\", round(len(bmi_perokok_atas_25_tag_16k)/len(asuransi_perokok),4))"
   ]
  },
  {
   "cell_type": "code",
   "execution_count": 135,
   "id": "9468688c",
   "metadata": {},
   "outputs": [
    {
     "name": "stdout",
     "output_type": "stream",
     "text": [
      "Jumlah data kejadian B: 12\n",
      "Peluang kejadian B: 0.0113\n"
     ]
    }
   ],
   "source": [
    "#mencari peluang kejadian B P(bmi > 25 & chg > 16.7k | non-perokok)\n",
    "bmi_non_perokok_bawah_25_tag_16k = asuransi_non_perokok[(asuransi_non_perokok.bmi < 25) & (asuransi_non_perokok.charges > 16700)]\n",
    "print(\"Jumlah data kejadian B:\", len(bmi_non_perokok_bawah_25_tag_16k))\n",
    "print(\"Peluang kejadian B:\", round(len(bmi_non_perokok_bawah_25_tag_16k)/len(asuransi_non_perokok),4))"
   ]
  },
  {
   "cell_type": "markdown",
   "id": "98a92dd0",
   "metadata": {},
   "source": [
    "Dari perhitungan di atas didapatkan pada kejadian A & B, yaitu:\n",
    "- P(bmi > 25 & chg > 16.7k | perokok) : 0.78\n",
    "- P(bmi < 25 & chg > 16.7k | perokok) : 0.01\n",
    "\n",
    "\n",
    "Ketika diketahui seseorang merokok, maka peluang orang tersebut jika BMI > 25 untuk membayar tagihan > 16.7k sebesar 0.78, lebih besar dari pada seseorang yang tidak merokok, memiliki BMI > 25 & tagihan > 16.7k, dengan peluang sebesar 0.01."
   ]
  },
  {
   "cell_type": "markdown",
   "id": "0654cb1d",
   "metadata": {},
   "source": [
    "### Analisa Korelasi Variabel"
   ]
  },
  {
   "cell_type": "markdown",
   "id": "9c3fa445",
   "metadata": {},
   "source": [
    "Pada korelasi variabel, akan dilakukan hubungan antara nilai BMI dengan variabel tanggungan anak. "
   ]
  },
  {
   "cell_type": "code",
   "execution_count": 20,
   "id": "0139693e",
   "metadata": {
    "scrolled": true
   },
   "outputs": [
    {
     "data": {
      "text/plain": [
       "<AxesSubplot:xlabel='children', ylabel='bmi'>"
      ]
     },
     "execution_count": 20,
     "metadata": {},
     "output_type": "execute_result"
    },
    {
     "data": {
      "image/png": "[encoded data removed]",
      "text/plain": [
       "<Figure size 640x480 with 1 Axes>"
      ]
     },
     "metadata": {},
     "output_type": "display_data"
    }
   ],
   "source": [
    "sns.boxplot(data=asuransi, x=\"children\", y=\"bmi\")"
   ]
  },
  {
   "cell_type": "code",
   "execution_count": 21,
   "id": "cb60fb40",
   "metadata": {
    "scrolled": true
   },
   "outputs": [
    {
     "data": {
      "text/plain": [
       "<AxesSubplot:xlabel='children', ylabel='bmi'>"
      ]
     },
     "execution_count": 21,
     "metadata": {},
     "output_type": "execute_result"
    },
    {
     "data": {
      "image/png": "[encoded data removed]",
      "text/plain": [
       "<Figure size 640x480 with 1 Axes>"
      ]
     },
     "metadata": {},
     "output_type": "display_data"
    }
   ],
   "source": [
    "sns.lineplot(data=asuransi, x=\"children\", y=\"bmi\")"
   ]
  },
  {
   "cell_type": "markdown",
   "id": "a4f4b478",
   "metadata": {},
   "source": [
    "Dari ke-2 plot di atas dapat dilihat bahwa nasabah yang memiliki jumlah 1-3 anak, memiliki rata-rata/median nilai BMI yang tidak banyak berubah. Nilai BMI memiliki variasi besar ketika jumlah anak terdiri dari 4 atau 5 anak. Nilai korelasi dapat dicari dengan menggunakan fungsi corr(). "
   ]
  },
  {
   "cell_type": "code",
   "execution_count": 22,
   "id": "a05ece67",
   "metadata": {},
   "outputs": [
    {
     "data": {
      "text/html": [
       "<div>\n",
       "<style scoped>\n",
       "    .dataframe tbody tr th:only-of-type {\n",
       "        vertical-align: middle;\n",
       "    }\n",
       "\n",
       "    .dataframe tbody tr th {\n",
       "        vertical-align: top;\n",
       "    }\n",
       "\n",
       "    .dataframe thead th {\n",
       "        text-align: right;\n",
       "    }\n",
       "</style>\n",
       "<table border=\"1\" class=\"dataframe\">\n",
       "  <thead>\n",
       "    <tr style=\"text-align: right;\">\n",
       "      <th></th>\n",
       "      <th>bmi</th>\n",
       "      <th>children</th>\n",
       "    </tr>\n",
       "  </thead>\n",
       "  <tbody>\n",
       "    <tr>\n",
       "      <th>bmi</th>\n",
       "      <td>1.000000</td>\n",
       "      <td>0.012759</td>\n",
       "    </tr>\n",
       "    <tr>\n",
       "      <th>children</th>\n",
       "      <td>0.012759</td>\n",
       "      <td>1.000000</td>\n",
       "    </tr>\n",
       "  </tbody>\n",
       "</table>\n",
       "</div>"
      ],
      "text/plain": [
       "               bmi  children\n",
       "bmi       1.000000  0.012759\n",
       "children  0.012759  1.000000"
      ]
     },
     "execution_count": 22,
     "metadata": {},
     "output_type": "execute_result"
    }
   ],
   "source": [
    "asuransi[[\"bmi\",\"children\"]].corr()"
   ]
  },
  {
   "cell_type": "markdown",
   "id": "6863dca1",
   "metadata": {},
   "source": [
    "Dengan bentuk plot tersebut, serta nilai korelasi antara BMI & children yang mendekati nol (0.013), memberikan informasi kepada kita bahwa ke-2 variabel tidak berkorelasi. Jumlah anak yang semakin banyak tidak memengaruhi nilai bmi dari seseorang."
   ]
  },
  {
   "cell_type": "markdown",
   "id": "383888cb",
   "metadata": {},
   "source": [
    "### Pengujian Hipotesis"
   ]
  },
  {
   "cell_type": "markdown",
   "id": "08f240ad",
   "metadata": {},
   "source": [
    "3 Hipotesis yang akan diuji pada project ini antara lain:\n",
    "1. Tagihan kesehatan perokok lebih tinggi daripada tagihan kesehatan non perokok\n",
    "2. Proporsi perokok laki-laki lebih besar dari perempuan\n",
    "3. Tagihan kesehatan dengan BMI diatas 25 lebih tinggi daripada tagihan kesehatan dengan BMI dibawah 25."
   ]
  },
  {
   "cell_type": "markdown",
   "id": "102340c3",
   "metadata": {},
   "source": [
    "#### 1. Tagihan kesehatan perokok lebih tinggi daripada tagihan kesehatan non perokok"
   ]
  },
  {
   "cell_type": "code",
   "execution_count": 55,
   "id": "64622c9d",
   "metadata": {
    "scrolled": false
   },
   "outputs": [
    {
     "data": {
      "text/html": [
       "<div>\n",
       "<style scoped>\n",
       "    .dataframe tbody tr th:only-of-type {\n",
       "        vertical-align: middle;\n",
       "    }\n",
       "\n",
       "    .dataframe tbody tr th {\n",
       "        vertical-align: top;\n",
       "    }\n",
       "\n",
       "    .dataframe thead tr th {\n",
       "        text-align: left;\n",
       "    }\n",
       "\n",
       "    .dataframe thead tr:last-of-type th {\n",
       "        text-align: right;\n",
       "    }\n",
       "</style>\n",
       "<table border=\"1\" class=\"dataframe\">\n",
       "  <thead>\n",
       "    <tr>\n",
       "      <th></th>\n",
       "      <th>mean</th>\n",
       "      <th>median</th>\n",
       "      <th>std</th>\n",
       "    </tr>\n",
       "    <tr>\n",
       "      <th></th>\n",
       "      <th>charges</th>\n",
       "      <th>charges</th>\n",
       "      <th>charges</th>\n",
       "    </tr>\n",
       "    <tr>\n",
       "      <th>smoker</th>\n",
       "      <th></th>\n",
       "      <th></th>\n",
       "      <th></th>\n",
       "    </tr>\n",
       "  </thead>\n",
       "  <tbody>\n",
       "    <tr>\n",
       "      <th>no</th>\n",
       "      <td>8434.268298</td>\n",
       "      <td>7345.40530</td>\n",
       "      <td>5993.781819</td>\n",
       "    </tr>\n",
       "    <tr>\n",
       "      <th>yes</th>\n",
       "      <td>32050.231832</td>\n",
       "      <td>34456.34845</td>\n",
       "      <td>11541.547176</td>\n",
       "    </tr>\n",
       "  </tbody>\n",
       "</table>\n",
       "</div>"
      ],
      "text/plain": [
       "                mean       median           std\n",
       "             charges      charges       charges\n",
       "smoker                                         \n",
       "no       8434.268298   7345.40530   5993.781819\n",
       "yes     32050.231832  34456.34845  11541.547176"
      ]
     },
     "execution_count": 55,
     "metadata": {},
     "output_type": "execute_result"
    }
   ],
   "source": [
    "asuransi.pivot_table(values=\"charges\", index=\"smoker\", aggfunc=[\"mean\", \"median\", \"std\"])"
   ]
  },
  {
   "cell_type": "markdown",
   "id": "52dec7f8",
   "metadata": {},
   "source": [
    "Untuk simplisitas, kita akan membandingkan kedua nilai mean dari perokok dan non-perokok. Dari data di atas, mean tagihan perokok = USD 32,050, sedangkan mean tagihan non perokok = USD 8,434. Nilainya terlampau jauh, namun seberapa yakin kita bahwa nilai tagihan perokok lebih tinggi daripada yang bukan?\n",
    "\n",
    "Maka dari itu, dilakukan uji statistik. Langkah pertama yang dilakukan adalah pembentukan hipotesis: <br>\n",
    "1.1. Hipotesis yang diuji:\n",
    "$$H_0: \\mu_{perokok} \\leq \\mu_{non perokok}$$\n",
    "$$H_1: \\mu_{perokok} > \\mu_{non perokok}$$\n",
    "\n",
    "1.2. Tentukan statistik uji\n",
    "Menggunakan t-test pada 2 sampel, karena tidak memiliki data keseluruhan populasi. \n",
    "\n",
    "1.3. Aturan Keputusan\n",
    "- Alpha = 0.05\n",
    "- Uji pihak kanan (dalam $H_1$ mengandung tanda $>$)"
   ]
  },
  {
   "cell_type": "markdown",
   "id": "dd41dc28",
   "metadata": {},
   "source": [
    "1.4. Hitung statistik uji"
   ]
  },
  {
   "cell_type": "code",
   "execution_count": 57,
   "id": "69b4a901",
   "metadata": {},
   "outputs": [
    {
     "data": {
      "text/plain": [
       "(132721153.13625304, 35891656.00316425)"
      ]
     },
     "execution_count": 57,
     "metadata": {},
     "output_type": "execute_result"
    }
   ],
   "source": [
    "# Langkah pertama adalah check variance dari kedua populasi\n",
    "np.var(asuransi_perokok.charges), np.var(asuransi_non_perokok.charges)"
   ]
  },
  {
   "cell_type": "code",
   "execution_count": 61,
   "id": "78003f39",
   "metadata": {},
   "outputs": [
    {
     "name": "stdout",
     "output_type": "stream",
     "text": [
      "Statistics = 32.7519, p-value = 0.0000\n"
     ]
    }
   ],
   "source": [
    "from scipy.stats import ttest_ind\n",
    "\n",
    "alpha = 0.05\n",
    "stat, p = ttest_ind(a = asuransi_perokok.charges, b = asuransi_non_perokok.charges, equal_var=False, alternative='greater')\n",
    "\n",
    "# Interpretasi Hasil\n",
    "print('Statistics = %.4f, p-value = %.4f' % (stat, p)) "
   ]
  },
  {
   "cell_type": "markdown",
   "id": "ce074e89",
   "metadata": {},
   "source": [
    "1.5. Pengambilan Keputusan"
   ]
  },
  {
   "cell_type": "code",
   "execution_count": 62,
   "id": "d3fc6bc3",
   "metadata": {},
   "outputs": [
    {
     "name": "stdout",
     "output_type": "stream",
     "text": [
      "Two group means are different (Tolak H0)\n"
     ]
    }
   ],
   "source": [
    "# Pengambilan Keputusan\n",
    "if p > alpha:\n",
    "    print('Two group means are equal (Gagal tolak H0)') \n",
    "else:\n",
    "    print('Two group means are different (Tolak H0)')"
   ]
  },
  {
   "cell_type": "markdown",
   "id": "17558e24",
   "metadata": {},
   "source": [
    "Maka dapat disimpulkan bahwa tagihan kesehatan perokok lebih besar daripada tagihan non perokok. Dari pengujian di atas, didapatkan bahwa nilai p-value kurang dari nilai alpha, sehingga kita bisa menolak $H_0$, yaitu keadaan ketika mean tagihan perokok kurang dari sama dengan mean tagihan non perokok."
   ]
  },
  {
   "cell_type": "markdown",
   "id": "73dfc204",
   "metadata": {},
   "source": [
    "#### 2. Proporsi perokok laki-laki lebih besar dari perempuan"
   ]
  },
  {
   "cell_type": "code",
   "execution_count": 65,
   "id": "f413ee74",
   "metadata": {},
   "outputs": [
    {
     "data": {
      "text/html": [
       "<div>\n",
       "<style scoped>\n",
       "    .dataframe tbody tr th:only-of-type {\n",
       "        vertical-align: middle;\n",
       "    }\n",
       "\n",
       "    .dataframe tbody tr th {\n",
       "        vertical-align: top;\n",
       "    }\n",
       "\n",
       "    .dataframe thead th {\n",
       "        text-align: right;\n",
       "    }\n",
       "</style>\n",
       "<table border=\"1\" class=\"dataframe\">\n",
       "  <thead>\n",
       "    <tr style=\"text-align: right;\">\n",
       "      <th>smoker</th>\n",
       "      <th>no</th>\n",
       "      <th>yes</th>\n",
       "    </tr>\n",
       "    <tr>\n",
       "      <th>sex</th>\n",
       "      <th></th>\n",
       "      <th></th>\n",
       "    </tr>\n",
       "  </thead>\n",
       "  <tbody>\n",
       "    <tr>\n",
       "      <th>female</th>\n",
       "      <td>547</td>\n",
       "      <td>115</td>\n",
       "    </tr>\n",
       "    <tr>\n",
       "      <th>male</th>\n",
       "      <td>517</td>\n",
       "      <td>159</td>\n",
       "    </tr>\n",
       "  </tbody>\n",
       "</table>\n",
       "</div>"
      ],
      "text/plain": [
       "smoker   no  yes\n",
       "sex             \n",
       "female  547  115\n",
       "male    517  159"
      ]
     },
     "execution_count": 65,
     "metadata": {},
     "output_type": "execute_result"
    }
   ],
   "source": [
    "pivot_proporsi = asuransi.pivot_table(values=\"charges\", index=\"sex\", columns=\"smoker\", aggfunc=\"count\")\n",
    "pivot_proporsi"
   ]
  },
  {
   "cell_type": "code",
   "execution_count": 92,
   "id": "5caea6ed",
   "metadata": {},
   "outputs": [],
   "source": [
    "total_laki = pivot_proporsi.loc[\"male\",].sum()\n",
    "total_perempuan = pivot_proporsi.loc[\"female\",].sum()\n",
    "proporsi_perokok_laki = round(pivot_proporsi.loc[\"male\",\"yes\"]/total_laki,2)\n",
    "proporsi_perokok_perempuan = round(pivot_proporsi.loc[\"female\",\"yes\"]/total_perempuan,2)"
   ]
  },
  {
   "cell_type": "code",
   "execution_count": 98,
   "id": "8fe5d451",
   "metadata": {},
   "outputs": [
    {
     "name": "stdout",
     "output_type": "stream",
     "text": [
      "Proporsi perokok laki-laki dari total sampel laki-laki(676 orang): 0.24\n",
      "Proporsi perokok perempuan dari total sampel perempuan(662 orang): 0.17\n"
     ]
    }
   ],
   "source": [
    "print(f\"Proporsi perokok laki-laki dari total sampel laki-laki({total_laki} orang): {proporsi_perokok_laki}\")\n",
    "print(f\"Proporsi perokok perempuan dari total sampel perempuan({total_perempuan} orang): {proporsi_perokok_perempuan}\")"
   ]
  },
  {
   "cell_type": "markdown",
   "id": "5b55624d",
   "metadata": {},
   "source": [
    "Diketahui bahwa proporsi perokok laki-laki adalah 159 dari 676 orang (0.24). Sedangkan proposi perempuan adalah 115 dari 662 orang (0.17). Apakah kedua proporsi tersebut dapat dikatakan sama? Hal ini dapat diperiksa menggunakan uji hipotesis proporsi dua populasi, menggunakan distribusi z. \n",
    "$$ z = \\frac{\\hat{p}_1-\\hat{p}_2}{\\sqrt{\\hat{p}(1-\\hat{p})(\\frac{1}{n_1}+\\frac{1}{n_2})}} $$\n",
    "\n",
    "dengan,\n",
    "$$ \\hat{p} = \\frac{x_1+x_2}{n_1+n_2} $$"
   ]
  },
  {
   "cell_type": "markdown",
   "id": "71d474f7",
   "metadata": {},
   "source": [
    "2.1. Hipotesis\n",
    "$$ H_0 : p_{laki} \\leq p_{perempuan}$$\n",
    "$$ H_1 : p_{laki} > p_{perempuan}$$"
   ]
  },
  {
   "cell_type": "markdown",
   "id": "7c03c0dc",
   "metadata": {},
   "source": [
    "2.2. Uji Statistik\n",
    "Menggunakan uji hipotesis proporsi dua populasi"
   ]
  },
  {
   "cell_type": "markdown",
   "id": "702a138e",
   "metadata": {},
   "source": [
    "2.3. Aturan Keputusan\n",
    "\n",
    "nilai alpha = 0.05\n",
    "uji pihak kanan"
   ]
  },
  {
   "cell_type": "markdown",
   "id": "16877ebf",
   "metadata": {},
   "source": [
    "2.4. Hitung Statistik Uji"
   ]
  },
  {
   "cell_type": "code",
   "execution_count": 108,
   "id": "a1173053",
   "metadata": {},
   "outputs": [],
   "source": [
    "#memasukkan variabel jumlah perokok dan total ukuran sampelnya\n",
    "jumlah_perokok = np.array([pivot_proporsi.loc[\"male\",\"yes\"], pivot_proporsi.loc[\"female\",\"yes\"]])\n",
    "total_sampel = np.array([total_laki, total_perempuan])"
   ]
  },
  {
   "cell_type": "code",
   "execution_count": 114,
   "id": "eb02b9b4",
   "metadata": {},
   "outputs": [
    {
     "name": "stdout",
     "output_type": "stream",
     "text": [
      "Perhitungan z statistik:  2.7867402154855503\n",
      "Nilai p-value:  0.002662057082160266\n"
     ]
    }
   ],
   "source": [
    "#import package\n",
    "from statsmodels.stats.proportion import proportions_ztest\n",
    "\n",
    "alpha = 0.05\n",
    "\n",
    "# Hitung uji statistik dan p_value\n",
    "(test_stat, p_value) = proportions_ztest(jumlah_perokok, total_sampel,alternative='larger')\n",
    "print(\"Perhitungan z statistik: \",test_stat)\n",
    "print(\"Nilai p-value: \", p_value)"
   ]
  },
  {
   "cell_type": "markdown",
   "id": "5cc96975",
   "metadata": {},
   "source": [
    "2.5. Pengambilan Keputusan"
   ]
  },
  {
   "cell_type": "code",
   "execution_count": 115,
   "id": "e061d65b",
   "metadata": {},
   "outputs": [
    {
     "name": "stdout",
     "output_type": "stream",
     "text": [
      "Two group means are different (Tolak H0)\n"
     ]
    }
   ],
   "source": [
    "# Pengambilan Keputusan\n",
    "if p > alpha:\n",
    "    print('Two group means are equal (Gagal tolak H0)') \n",
    "else:\n",
    "    print('Two group means are different (Tolak H0)')"
   ]
  },
  {
   "cell_type": "markdown",
   "id": "5822aea1",
   "metadata": {},
   "source": [
    "Dari hasil di atas didapatkan bahwa p-value (0.003) kurang dari nilai alpha (0.05), hal ini memberikan kita keyakinan untuk menolak $H_0$. Maka dari itu proporsi perokok laki-laki memang lebih besar dari proporsi perokok perempuan."
   ]
  },
  {
   "cell_type": "markdown",
   "id": "c507bd7b",
   "metadata": {},
   "source": [
    "#### 3. Tagihan kesehatan dengan BMI diatas 25 lebih tinggi daripada tagihan kesehatan dengan BMI dibawah 25."
   ]
  },
  {
   "cell_type": "markdown",
   "id": "a32bab1d",
   "metadata": {},
   "source": [
    "Hal yang harus dilakukan adalah menambahkan kolom yang memberikan keterangan apakah nilainya di atas 25 atau di bawah 25, sebut saja dengan istilah \"upper_25\" & \"lower_25\". "
   ]
  },
  {
   "cell_type": "code",
   "execution_count": 122,
   "id": "eadc4fc4",
   "metadata": {},
   "outputs": [
    {
     "data": {
      "text/html": [
       "<div>\n",
       "<style scoped>\n",
       "    .dataframe tbody tr th:only-of-type {\n",
       "        vertical-align: middle;\n",
       "    }\n",
       "\n",
       "    .dataframe tbody tr th {\n",
       "        vertical-align: top;\n",
       "    }\n",
       "\n",
       "    .dataframe thead th {\n",
       "        text-align: right;\n",
       "    }\n",
       "</style>\n",
       "<table border=\"1\" class=\"dataframe\">\n",
       "  <thead>\n",
       "    <tr style=\"text-align: right;\">\n",
       "      <th></th>\n",
       "      <th>age</th>\n",
       "      <th>sex</th>\n",
       "      <th>bmi</th>\n",
       "      <th>children</th>\n",
       "      <th>smoker</th>\n",
       "      <th>region</th>\n",
       "      <th>charges</th>\n",
       "      <th>bmi_25</th>\n",
       "    </tr>\n",
       "  </thead>\n",
       "  <tbody>\n",
       "    <tr>\n",
       "      <th>0</th>\n",
       "      <td>19</td>\n",
       "      <td>female</td>\n",
       "      <td>27.900</td>\n",
       "      <td>0</td>\n",
       "      <td>yes</td>\n",
       "      <td>southwest</td>\n",
       "      <td>16884.92400</td>\n",
       "      <td>upper_25</td>\n",
       "    </tr>\n",
       "    <tr>\n",
       "      <th>1</th>\n",
       "      <td>18</td>\n",
       "      <td>male</td>\n",
       "      <td>33.770</td>\n",
       "      <td>1</td>\n",
       "      <td>no</td>\n",
       "      <td>southeast</td>\n",
       "      <td>1725.55230</td>\n",
       "      <td>upper_25</td>\n",
       "    </tr>\n",
       "    <tr>\n",
       "      <th>2</th>\n",
       "      <td>28</td>\n",
       "      <td>male</td>\n",
       "      <td>33.000</td>\n",
       "      <td>3</td>\n",
       "      <td>no</td>\n",
       "      <td>southeast</td>\n",
       "      <td>4449.46200</td>\n",
       "      <td>upper_25</td>\n",
       "    </tr>\n",
       "    <tr>\n",
       "      <th>3</th>\n",
       "      <td>33</td>\n",
       "      <td>male</td>\n",
       "      <td>22.705</td>\n",
       "      <td>0</td>\n",
       "      <td>no</td>\n",
       "      <td>northwest</td>\n",
       "      <td>21984.47061</td>\n",
       "      <td>lower_25</td>\n",
       "    </tr>\n",
       "    <tr>\n",
       "      <th>4</th>\n",
       "      <td>32</td>\n",
       "      <td>male</td>\n",
       "      <td>28.880</td>\n",
       "      <td>0</td>\n",
       "      <td>no</td>\n",
       "      <td>northwest</td>\n",
       "      <td>3866.85520</td>\n",
       "      <td>upper_25</td>\n",
       "    </tr>\n",
       "  </tbody>\n",
       "</table>\n",
       "</div>"
      ],
      "text/plain": [
       "   age     sex     bmi  children smoker     region      charges    bmi_25\n",
       "0   19  female  27.900         0    yes  southwest  16884.92400  upper_25\n",
       "1   18    male  33.770         1     no  southeast   1725.55230  upper_25\n",
       "2   28    male  33.000         3     no  southeast   4449.46200  upper_25\n",
       "3   33    male  22.705         0     no  northwest  21984.47061  lower_25\n",
       "4   32    male  28.880         0     no  northwest   3866.85520  upper_25"
      ]
     },
     "execution_count": 122,
     "metadata": {},
     "output_type": "execute_result"
    }
   ],
   "source": [
    "asuransi_baru = asuransi\n",
    "asuransi_baru[\"bmi_25\"] = [\"upper_25\" if x >= 25 else \"lower_25\" for x in asuransi_baru.bmi]\n",
    "asuransi_baru.head()"
   ]
  },
  {
   "cell_type": "code",
   "execution_count": 123,
   "id": "9128151c",
   "metadata": {
    "scrolled": true
   },
   "outputs": [
    {
     "data": {
      "text/html": [
       "<div>\n",
       "<style scoped>\n",
       "    .dataframe tbody tr th:only-of-type {\n",
       "        vertical-align: middle;\n",
       "    }\n",
       "\n",
       "    .dataframe tbody tr th {\n",
       "        vertical-align: top;\n",
       "    }\n",
       "\n",
       "    .dataframe thead tr th {\n",
       "        text-align: left;\n",
       "    }\n",
       "\n",
       "    .dataframe thead tr:last-of-type th {\n",
       "        text-align: right;\n",
       "    }\n",
       "</style>\n",
       "<table border=\"1\" class=\"dataframe\">\n",
       "  <thead>\n",
       "    <tr>\n",
       "      <th></th>\n",
       "      <th>mean</th>\n",
       "      <th>median</th>\n",
       "      <th>std</th>\n",
       "    </tr>\n",
       "    <tr>\n",
       "      <th></th>\n",
       "      <th>charges</th>\n",
       "      <th>charges</th>\n",
       "      <th>charges</th>\n",
       "    </tr>\n",
       "    <tr>\n",
       "      <th>bmi_25</th>\n",
       "      <th></th>\n",
       "      <th></th>\n",
       "      <th></th>\n",
       "    </tr>\n",
       "  </thead>\n",
       "  <tbody>\n",
       "    <tr>\n",
       "      <th>lower_25</th>\n",
       "      <td>10282.224474</td>\n",
       "      <td>8582.3023</td>\n",
       "      <td>7520.485850</td>\n",
       "    </tr>\n",
       "    <tr>\n",
       "      <th>upper_25</th>\n",
       "      <td>13940.237872</td>\n",
       "      <td>9563.0290</td>\n",
       "      <td>12824.401478</td>\n",
       "    </tr>\n",
       "  </tbody>\n",
       "</table>\n",
       "</div>"
      ],
      "text/plain": [
       "                  mean     median           std\n",
       "               charges    charges       charges\n",
       "bmi_25                                         \n",
       "lower_25  10282.224474  8582.3023   7520.485850\n",
       "upper_25  13940.237872  9563.0290  12824.401478"
      ]
     },
     "execution_count": 123,
     "metadata": {},
     "output_type": "execute_result"
    }
   ],
   "source": [
    "asuransi_baru.pivot_table(values=\"charges\", index=\"bmi_25\", aggfunc=[\"mean\", \"median\", \"std\"])"
   ]
  },
  {
   "cell_type": "markdown",
   "id": "e5a5e31e",
   "metadata": {},
   "source": [
    "Dari pivot tabel didapatkan bahwa $\\mu_{upper}$ memiliki nilai USD 13,940 lebih tinggi dibandingkan dengan nilai $\\mu_{lower}$ yang bernilai USD 10,282."
   ]
  },
  {
   "cell_type": "markdown",
   "id": "1edbe4f7",
   "metadata": {},
   "source": [
    "Dilakukan uji statistik. Langkah pertama yang dilakukan adalah pembentukan hipotesis: <br>\n",
    "3.1. Hipotesis yang diuji:\n",
    "$$H_0: \\mu_{upper 25} \\leq \\mu_{lower 25}$$\n",
    "$$H_1: \\mu_{upper 25} > \\mu_{lower 25}$$\n",
    "\n",
    "3.2. Tentukan statistik uji\n",
    "Menggunakan t-test pada 2 sampel, karena tidak memiliki data keseluruhan populasi. \n",
    "\n",
    "3.3. Aturan Keputusan\n",
    "- Alpha = 0.05\n",
    "- Uji pihak kanan (dalam $H_1$ mengandung tanda $>$)"
   ]
  },
  {
   "cell_type": "markdown",
   "id": "a5af4323",
   "metadata": {},
   "source": [
    "3.4. Hitung statistik uji"
   ]
  },
  {
   "cell_type": "code",
   "execution_count": 130,
   "id": "cf457da6",
   "metadata": {},
   "outputs": [],
   "source": [
    "asuransi_bmi_up_25 = asuransi_baru[asuransi_baru[\"bmi_25\"] == \"upper_25\"]\n",
    "asuransi_bmi_down_25 = asuransi_baru[asuransi_baru[\"bmi_25\"] == \"lower_25\"]"
   ]
  },
  {
   "cell_type": "code",
   "execution_count": 131,
   "id": "570baed6",
   "metadata": {},
   "outputs": [
    {
     "name": "stdout",
     "output_type": "stream",
     "text": [
      "Statistics = 5.9238, p-value = 0.0000\n"
     ]
    }
   ],
   "source": [
    "from scipy.stats import ttest_ind\n",
    "\n",
    "alpha = 0.05\n",
    "stat, p = ttest_ind(a = asuransi_bmi_up_25.charges, b = asuransi_bmi_down_25.charges, equal_var=False, alternative='greater')\n",
    "\n",
    "# Interpretasi Hasil\n",
    "print('Statistics = %.4f, p-value = %.4f' % (stat, p)) "
   ]
  },
  {
   "cell_type": "markdown",
   "id": "419281f3",
   "metadata": {},
   "source": [
    "3.5. Pengambilan Keputusan"
   ]
  },
  {
   "cell_type": "code",
   "execution_count": 132,
   "id": "e401b18d",
   "metadata": {},
   "outputs": [
    {
     "name": "stdout",
     "output_type": "stream",
     "text": [
      "Two group means are different (Tolak H0)\n"
     ]
    }
   ],
   "source": [
    "# Pengambilan Keputusan\n",
    "if p > alpha:\n",
    "    print('Two group means are equal (Gagal tolak H0)') \n",
    "else:\n",
    "    print('Two group means are different (Tolak H0)')"
   ]
  },
  {
   "cell_type": "markdown",
   "id": "e91475b4",
   "metadata": {},
   "source": [
    "Maka dapat disimpulkan bahwa tagihan seseorang dengan BMI di atas 25 akan mendapatkan nilai tagihan yang lebih besar dibandingkan dengan orang yang memiliki BMI < 25. Hal ini secara logis benar, karena orang dengan berat badan berlebihan berisiko lebih besar untuk mendapatkan penyakit yang lebih mematikan."
   ]
  }
 ],
 "metadata": {
  "kernelspec": {
   "display_name": "Python 3 (ipykernel)",
   "language": "python",
   "name": "python3"
  },
  "language_info": {
   "codemirror_mode": {
    "name": "ipython",
    "version": 3
   },
   "file_extension": ".py",
   "mimetype": "text/x-python",
   "name": "python",
   "nbconvert_exporter": "python",
   "pygments_lexer": "ipython3",
   "version": "3.9.13"
  }
 },
 "nbformat": 4,
 "nbformat_minor": 5
}
